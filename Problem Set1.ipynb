{
 "cells": [
  {
   "cell_type": "markdown",
   "id": "39758e1e-034c-4853-9e30-e8212d78b7e8",
   "metadata": {},
   "source": [
    "Question 1 C#"
   ]
  },
  {
   "cell_type": "markdown",
   "id": "7a1081d2-b67c-4136-b22d-6d296c83fc11",
   "metadata": {},
   "source": [
    "What data type is each of the following?"
   ]
  },
  {
   "cell_type": "markdown",
   "id": "88f2358d-65a1-4003-976a-9f89a5750416",
   "metadata": {},
   "source": [
    "5\n",
    "5.0\n",
    "5 > 1\n",
    "'5'\n",
    "5 * 2\n",
    "'5' * 2\n",
    "'5' + '2'\n",
    "5 / 2\n",
    "5 % 2\n",
    "{5, 2, 1}\n",
    "5 == 3\n",
    "Pi (the number)"
   ]
  },
  {
   "cell_type": "code",
   "execution_count": 4,
   "id": "78f9d9c3-7e6c-4780-8b33-0ca5ac3692cc",
   "metadata": {},
   "outputs": [
    {
     "name": "stdout",
     "output_type": "stream",
     "text": [
      "5: int\n",
      "5.0: double\n",
      "5 > 1: bool\n",
      "'5': char\n",
      "5 * 2: int\n",
      "'5' * 2: string (using new string('5', 2))\n",
      "'5' + '2': string (after conversion)\n",
      "5 / 2: double\n",
      "5 % 2: int\n",
      "{5, 2, 1}: HashSet<int>\n",
      "5 == 3: bool\n",
      "Math.PI: double\n"
     ]
    }
   ],
   "source": [
    "using System;\n",
    "using System.Collections.Generic;\n",
    "\n",
    "// Create a dictionary to store expressions and their data types\n",
    "var dataTypes = new Dictionary<string, string>\n",
    "{\n",
    "    { \"5\", \"int\" },\n",
    "    { \"5.0\", \"double\" },\n",
    "    { \"5 > 1\", \"bool\" },\n",
    "    { \"'5'\", \"char\" },\n",
    "    { \"5 * 2\", \"int\" },\n",
    "    { \"'5' * 2\", \"string (using new string('5', 2))\" }, // Not valid as-is in C#\n",
    "    { \"'5' + '2'\", \"string (after conversion)\" }, // Not valid as-is in C#\n",
    "    { \"5 / 2\", \"double\" }, // Result of integer division is promoted to double\n",
    "    { \"5 % 2\", \"int\" },\n",
    "    { \"{5, 2, 1}\", \"HashSet<int>\" }, // A set of integers\n",
    "    { \"5 == 3\", \"bool\" },\n",
    "    { \"Math.PI\", \"double\" } // Pi is a constant in the Math class\n",
    "};\n",
    "\n",
    "// Output each expression and its data type\n",
    "foreach (var entry in dataTypes)\n",
    "{\n",
    "    Console.WriteLine($\"{entry.Key}: {entry.Value}\");\n",
    "}"
   ]
  },
  {
   "cell_type": "markdown",
   "id": "1183444b-9189-4994-8652-246551dceec5",
   "metadata": {},
   "source": [
    "Question 2 C#"
   ]
  },
  {
   "cell_type": "markdown",
   "id": "6b248a8a-207e-457a-92cd-957366a35672",
   "metadata": {},
   "source": [
    "Write (and evaluate) C# expressions that answer these questions:"
   ]
  },
  {
   "cell_type": "markdown",
   "id": "7ba3f7fa-f63c-4503-9825-97aa0708b5fe",
   "metadata": {},
   "source": [
    "a. How many letters are there in 'Supercalifragilisticexpialidocious'?"
   ]
  },
  {
   "cell_type": "code",
   "execution_count": 9,
   "id": "c8310271-3dde-4b20-a187-f02e94f60de7",
   "metadata": {},
   "outputs": [
    {
     "data": {
      "text/html": [
       "<div class=\"dni-plaintext\"><pre>34</pre></div><style>\r\n",
       ".dni-code-hint {\r\n",
       "    font-style: italic;\r\n",
       "    overflow: hidden;\r\n",
       "    white-space: nowrap;\r\n",
       "}\r\n",
       ".dni-treeview {\r\n",
       "    white-space: nowrap;\r\n",
       "}\r\n",
       ".dni-treeview td {\r\n",
       "    vertical-align: top;\r\n",
       "    text-align: start;\r\n",
       "}\r\n",
       "details.dni-treeview {\r\n",
       "    padding-left: 1em;\r\n",
       "}\r\n",
       "table td {\r\n",
       "    text-align: start;\r\n",
       "}\r\n",
       "table tr { \r\n",
       "    vertical-align: top; \r\n",
       "    margin: 0em 0px;\r\n",
       "}\r\n",
       "table tr td pre \r\n",
       "{ \r\n",
       "    vertical-align: top !important; \r\n",
       "    margin: 0em 0px !important;\r\n",
       "} \r\n",
       "table th {\r\n",
       "    text-align: start;\r\n",
       "}\r\n",
       "</style>"
      ]
     },
     "execution_count": 9,
     "metadata": {},
     "output_type": "execute_result"
    }
   ],
   "source": [
    "// C# expression to count the number of letters in \"Supercalifragilisticexpialidocious\"\n",
    "string word = \"Supercalifragilisticexpialidocious\";\n",
    "int letterCount = word.Length;\n",
    "\n",
    "// Output the result\n",
    "letterCount\n"
   ]
  },
  {
   "cell_type": "markdown",
   "id": "86672713-ea54-44c4-9b24-ad5c8678c12c",
   "metadata": {},
   "source": [
    "b. Does 'Supercalifragilisticexpialidocious' contain 'ice' as a substring?"
   ]
  },
  {
   "cell_type": "code",
   "execution_count": 14,
   "id": "a519adea-ad81-48ae-a417-4c5ccbac3100",
   "metadata": {},
   "outputs": [
    {
     "data": {
      "text/html": [
       "<div class=\"dni-plaintext\"><pre>True</pre></div><style>\r\n",
       ".dni-code-hint {\r\n",
       "    font-style: italic;\r\n",
       "    overflow: hidden;\r\n",
       "    white-space: nowrap;\r\n",
       "}\r\n",
       ".dni-treeview {\r\n",
       "    white-space: nowrap;\r\n",
       "}\r\n",
       ".dni-treeview td {\r\n",
       "    vertical-align: top;\r\n",
       "    text-align: start;\r\n",
       "}\r\n",
       "details.dni-treeview {\r\n",
       "    padding-left: 1em;\r\n",
       "}\r\n",
       "table td {\r\n",
       "    text-align: start;\r\n",
       "}\r\n",
       "table tr { \r\n",
       "    vertical-align: top; \r\n",
       "    margin: 0em 0px;\r\n",
       "}\r\n",
       "table tr td pre \r\n",
       "{ \r\n",
       "    vertical-align: top !important; \r\n",
       "    margin: 0em 0px !important;\r\n",
       "} \r\n",
       "table th {\r\n",
       "    text-align: start;\r\n",
       "}\r\n",
       "</style>"
      ]
     },
     "execution_count": 14,
     "metadata": {},
     "output_type": "execute_result"
    }
   ],
   "source": [
    "using System;\n",
    "\n",
    "// C# expression to check if \"Supercalifragilisticexpialidocious\" contains \"ice\"\n",
    "string word = \"Supercalifragilisticexpialidocious\";\n",
    "bool containsIce = word.Contains(\"ice\");\n",
    "\n",
    "// Output the result\n",
    "containsIce\n"
   ]
  },
  {
   "cell_type": "markdown",
   "id": "06658ab5-5bb7-4cbb-90bd-862c9bf5cb36",
   "metadata": {},
   "source": [
    "c. Which of the following words is the longest:\n",
    "Supercalifragilisticexpialidocious, Honorificabilitudinitatibus, or\n",
    "Bababadalgharaghtakamminarronnkonn?\n"
   ]
  },
  {
   "cell_type": "code",
   "execution_count": 17,
   "id": "8ee52799-3d98-45b5-a87c-d3decf524f08",
   "metadata": {},
   "outputs": [
    {
     "data": {
      "text/plain": [
       "Supercalifragilisticexpialidocious"
      ]
     },
     "execution_count": 17,
     "metadata": {},
     "output_type": "execute_result"
    }
   ],
   "source": [
    "using System;\n",
    "\n",
    "// Define the words to compare\n",
    "string word1 = \"Supercalifragilisticexpialidocious\";\n",
    "string word2 = \"Honorificabilitudinitatibus\";\n",
    "string word3 = \"Bababadalgharaghtakamminarronnkonn\";\n",
    "\n",
    "// Determine the longest word\n",
    "string longestWord = word1;\n",
    "\n",
    "if (word2.Length > longestWord.Length)\n",
    "{\n",
    "    longestWord = word2;\n",
    "}\n",
    "\n",
    "if (word3.Length > longestWord.Length)\n",
    "{\n",
    "    longestWord = word3;\n",
    "}\n",
    "\n",
    "// Output the result\n",
    "longestWord\n"
   ]
  },
  {
   "cell_type": "markdown",
   "id": "bae2a54c-3823-4c8b-80d2-7bf8e49b0e15",
   "metadata": {},
   "source": [
    "d. Which composer comes first in the dictionary: 'Berlioz', 'Borodin', 'Brian',\n",
    "'Bartok', 'Bellini', 'Buxtehude', 'Bernstein'. Which one comes last?\n"
   ]
  },
  {
   "cell_type": "code",
   "execution_count": 26,
   "id": "05dcefc9-dd5d-40c3-95ab-bf4497210be3",
   "metadata": {},
   "outputs": [
    {
     "name": "stdout",
     "output_type": "stream",
     "text": [
      "First composer: Bartok\n",
      "Last composer: Buxtehude\n"
     ]
    }
   ],
   "source": [
    "using System;\n",
    "using System.Collections.Generic;\n",
    "\n",
    "// List of composers\n",
    "var composers = new List<string>\n",
    "{\n",
    "    \"Berlioz\",\n",
    "    \"Borodin\",\n",
    "    \"Brian\",\n",
    "    \"Bartok\",\n",
    "    \"Bellini\",\n",
    "    \"Buxtehude\",\n",
    "    \"Bernstein\"\n",
    "};\n",
    "\n",
    "// Sort the list of composers\n",
    "composers.Sort();\n",
    "\n",
    "// Determine the first and last composers\n",
    "string firstComposer = composers[0];\n",
    "string lastComposer = composers[composers.Count - 1];\n",
    "\n",
    "// Output the results\n",
    "Console.WriteLine($\"First composer: {firstComposer}\");\n",
    "Console.WriteLine($\"Last composer: {lastComposer}\");\n"
   ]
  },
  {
   "cell_type": "markdown",
   "id": "f2b8694d-3ffa-4a10-aabe-12578ee35661",
   "metadata": {},
   "source": [
    "Question 3 C#\n"
   ]
  },
  {
   "cell_type": "markdown",
   "id": "6867dbba-1ce7-4542-b1dd-fffbcd775711",
   "metadata": {},
   "source": [
    "Implement function triangleArea(a,b,c) that takes as input the lengths of the 3\n",
    "sides of a triangle and returns the area of the triangle. By Heron's formula, the area\n",
    "of a triangle with side lengths a, b, and c is s(s − a)(s −b)(s −c), where\n",
    "s = (a + b + c)/2.\n",
    ">>> triangleArea(2,2,2)\n",
    "1.7320508075688772"
   ]
  },
  {
   "cell_type": "code",
   "execution_count": 32,
   "id": "28c8f2aa-1aa5-4382-9b66-0d383e9c3ad2",
   "metadata": {},
   "outputs": [
    {
     "name": "stdout",
     "output_type": "stream",
     "text": [
      "1.7320508075688772\n"
     ]
    }
   ],
   "source": [
    "using System;\n",
    "\n",
    "// Function to calculate the area of a triangle using Heron's formula\n",
    "public static double TriangleArea(double a, double b, double c)\n",
    "{\n",
    "    // Calculate the semi-perimeter\n",
    "    double s = (a + b + c) / 2;\n",
    "    \n",
    "    // Calculate the area using Heron's formula\n",
    "    double area = Math.Sqrt(s * (s - a) * (s - b) * (s - c));\n",
    "    \n",
    "    return area;\n",
    "}\n",
    "\n",
    "// Test the function with example values\n",
    "double area = TriangleArea(2, 2, 2);\n",
    "Console.WriteLine(area);\n"
   ]
  },
  {
   "cell_type": "markdown",
   "id": "ac919645-bac6-4e44-a2de-a49136d75c30",
   "metadata": {},
   "source": [
    "Question 4 C#"
   ]
  },
  {
   "cell_type": "markdown",
   "id": "c279b04f-46aa-47e6-b4bb-696d2e1c4d2d",
   "metadata": {},
   "source": [
    "Write a program in C# Sharp to separate odd and even integers in separate arrays.\n",
    "Go to the editor\n",
    "Test Data :\n",
    "Input the number of elements to be stored in the array :5\n",
    "Input 5 elements in the array :\n",
    "element - 0 : 25\n",
    "element - 1 : 47\n",
    "element - 2 : 42\n",
    "element - 3 : 56\n",
    "element - 4 : 32\n",
    "Expected Output:\n",
    "The Even elements are:\n",
    "42 56 32\n",
    "The Odd elements are :\n",
    "25 47"
   ]
  },
  {
   "cell_type": "code",
   "execution_count": 42,
   "id": "913e963a-92df-4a12-9cdf-23bf8d510e8c",
   "metadata": {},
   "outputs": [
    {
     "name": "stdout",
     "output_type": "stream",
     "text": [
      "\n",
      "The Even elements are:\n",
      "42 56 32\n",
      "The Odd elements are:\n",
      "25 47\n"
     ]
    }
   ],
   "source": [
    "using System;\n",
    "using System.Collections.Generic;\n",
    "\n",
    "// Function to separate odd and even numbers\n",
    "void SeparateOddEven()\n",
    "{\n",
    "    // Hardcoded test data\n",
    "    int[] elements = new int[] { 25, 47, 42, 56, 32 };\n",
    "\n",
    "    // Lists to hold even and odd numbers\n",
    "    List<int> evenNumbers = new List<int>();\n",
    "    List<int> oddNumbers = new List<int>();\n",
    "\n",
    "    // Separate the numbers into even and odd\n",
    "    foreach (var number in elements)\n",
    "    {\n",
    "        if (number % 2 == 0)\n",
    "        {\n",
    "            evenNumbers.Add(number);\n",
    "        }\n",
    "        else\n",
    "        {\n",
    "            oddNumbers.Add(number);\n",
    "        }\n",
    "    }\n",
    "\n",
    "    // Output the even numbers\n",
    "    Console.WriteLine(\"\\nThe Even elements are:\");\n",
    "    if (evenNumbers.Count > 0)\n",
    "    {\n",
    "        Console.WriteLine(string.Join(\" \", evenNumbers));\n",
    "    }\n",
    "    else\n",
    "    {\n",
    "        Console.WriteLine(\"None\");\n",
    "    }\n",
    "\n",
    "    // Output the odd numbers\n",
    "    Console.WriteLine(\"The Odd elements are:\");\n",
    "    if (oddNumbers.Count > 0)\n",
    "    {\n",
    "        Console.WriteLine(string.Join(\" \", oddNumbers));\n",
    "    }\n",
    "    else\n",
    "    {\n",
    "        Console.WriteLine(\"None\");\n",
    "    }\n",
    "}\n",
    "\n",
    "// Call the function to execute\n",
    "SeparateOddEven();\n"
   ]
  },
  {
   "cell_type": "markdown",
   "id": "3031ff74-d4b4-4a68-81c4-4136600d40ab",
   "metadata": {},
   "source": [
    "Question 5 C#"
   ]
  },
  {
   "cell_type": "markdown",
   "id": "a6753ee3-e139-4421-98d3-a48489156a59",
   "metadata": {},
   "source": [
    "a. Write a function inside(x,y,x1,y1,x2,y2) that returns True or False\n",
    "dependingonwhetherthepoint(x,y)liesintherectanglewithlowerleft\n",
    "corner (x1,y1) and upper right corner (x2,y2).\n",
    ">>> inside(1,1,0,0,2,3)\n",
    "True\n",
    ">>> inside(-1,-1,0,0,2,3)\n",
    "False\n"
   ]
  },
  {
   "cell_type": "code",
   "execution_count": 49,
   "id": "4f6e2b73-b994-4420-b25d-dc16c2fa5157",
   "metadata": {},
   "outputs": [
    {
     "name": "stdout",
     "output_type": "stream",
     "text": [
      "inside(1, 1, 0, 0, 2, 3) --> True\n",
      "inside(-1, -1, 0, 0, 2, 3) --> False\n"
     ]
    }
   ],
   "source": [
    "using System;\n",
    "\n",
    "// Function to check if a point lies inside a rectangle\n",
    "bool Inside(double x, double y, double x1, double y1, double x2, double y2)\n",
    "{\n",
    "    return (x >= x1 && x <= x2 && y >= y1 && y <= y2);\n",
    "}\n",
    "\n",
    "// Testing the function with examples and displaying the results\n",
    "string test1 = \"inside(1, 1, 0, 0, 2, 3)\";\n",
    "bool result1 = Inside(1, 1, 0, 0, 2, 3);\n",
    "Console.WriteLine($\"{test1} --> {result1}\"); // Expected output: True\n",
    "\n",
    "string test2 = \"inside(-1, -1, 0, 0, 2, 3)\";\n",
    "bool result2 = Inside(-1, -1, 0, 0, 2, 3);\n",
    "Console.WriteLine($\"{test2} --> {result2}\"); // Expected output: False\n"
   ]
  },
  {
   "cell_type": "markdown",
   "id": "60c3fcad-e12b-47f6-8a73-56c445038fda",
   "metadata": {},
   "source": [
    "b. Use function inside()from part a. to write an expression that tests whether\n",
    "the point (1,1) lies in both of the following rectangles: one with lower left\n",
    "corner (0.3, 0.5) and upper right corner (1.1, 0.7) and the other with lower\n",
    "left corner (0.5, 0.2) and upper right corner (1.1, 2).\n"
   ]
  },
  {
   "cell_type": "code",
   "execution_count": 51,
   "id": "075e5912-0bea-4fa5-bd7c-db1d185a1107",
   "metadata": {},
   "outputs": [
    {
     "name": "stdout",
     "output_type": "stream",
     "text": [
      "Point (1, 1) in first rectangle (0.3, 0.5) to (1.1, 0.7): False\n",
      "Point (1, 1) in second rectangle (0.5, 0.2) to (1.1, 2): True\n"
     ]
    }
   ],
   "source": [
    "using System;\n",
    "\n",
    "// Function to check if a point lies inside a rectangle\n",
    "bool Inside(double x, double y, double x1, double y1, double x2, double y2)\n",
    "{\n",
    "    return (x >= x1 && x <= x2 && y >= y1 && y <= y2);\n",
    "}\n",
    "\n",
    "// Test the point (1, 1) against the two specified rectangles\n",
    "double pointX = 1;\n",
    "double pointY = 1;\n",
    "\n",
    "// First rectangle: lower left (0.3, 0.5), upper right (1.1, 0.7)\n",
    "bool inFirstRectangle = Inside(pointX, pointY, 0.3, 0.5, 1.1, 0.7);\n",
    "Console.WriteLine($\"Point (1, 1) in first rectangle (0.3, 0.5) to (1.1, 0.7): {inFirstRectangle}\");\n",
    "\n",
    "// Second rectangle: lower left (0.5, 0.2), upper right (1.1, 2)\n",
    "bool inSecondRectangle = Inside(pointX, pointY, 0.5, 0.2, 1.1, 2);\n",
    "Console.WriteLine($\"Point (1, 1) in second rectangle (0.5, 0.2) to (1.1, 2): {inSecondRectangle}\");\n"
   ]
  },
  {
   "cell_type": "markdown",
   "id": "746f9248-4712-4824-b286-26c26ae8754c",
   "metadata": {},
   "source": [
    "Question 6 Python"
   ]
  },
  {
   "cell_type": "markdown",
   "id": "00e827de-5087-439a-a0a8-1b39b6d4b887",
   "metadata": {},
   "source": [
    "16. You can turn a word into pig-Latin using the following two rules(simplified):\n",
    "• If the word starts with a consonant, move that letter to the end and append\n",
    "'ay'. For example, 'happy' becomes 'appyhay' and 'pencil' becomes 'encilpay'.\n",
    "• If the word starts with a vowel, simply append 'way' to the end of the word.\n",
    "For example, 'enter' becomes 'enterway' and 'other' becomes 'otherway' . For\n",
    "our purposes, there are 5 vowels: a, e, i, o, u (so we count y as a consonant).\n",
    "Write a function pig() that takes a word (i.e., a string) as input and returns its pigLatin form. Your function should still work if the input word contains upper case\n",
    "characters. Your output should always be lower case however.\n",
    ">>> pig('happy')\n",
    "'appyhay'\n",
    ">>> pig('Enter')\n",
    "'enterway'"
   ]
  },
  {
   "cell_type": "code",
   "execution_count": 1,
   "id": "6bc761e5-0a23-43fb-97a0-01cd709b2e3a",
   "metadata": {},
   "outputs": [
    {
     "name": "stdout",
     "output_type": "stream",
     "text": [
      "pig('happy') --> appyhay\n",
      "pig('Enter') --> enterway\n"
     ]
    }
   ],
   "source": [
    "def pig(word):\n",
    "    # Convert the word to lowercase for consistent processing\n",
    "    lower_word = word.lower()\n",
    "    \n",
    "    # Check if the first character is a vowel\n",
    "    if lower_word[0] in 'aeiou':\n",
    "        return lower_word + 'way'  # Append 'way' if the word starts with a vowel\n",
    "    else:\n",
    "        # Move the first letter to the end and append 'ay'\n",
    "        return lower_word[1:] + lower_word[0] + 'ay'\n",
    "\n",
    "# Test cases\n",
    "print(\"pig('happy') -->\", pig('happy'))  # Expected output: 'appyhay'\n",
    "print(\"pig('Enter') -->\", pig('Enter'))  # Expected output: 'enterway'\n"
   ]
  },
  {
   "cell_type": "markdown",
   "id": "50fd816a-4ef1-4185-a76c-50b16bd3e12a",
   "metadata": {},
   "source": [
    "Question 7 Python\n"
   ]
  },
  {
   "cell_type": "markdown",
   "id": "21bb9593-3856-43b7-a13b-47347da71924",
   "metadata": {},
   "source": [
    "File bloodtype1.txt records blood-types of patients (A, B, AB, O or OO) at a clinic.\n",
    "Write a function bldcount() that reads the file with name name and reports (i.e.,\n",
    "prints) how many patients there are in each bloodtype.\n",
    ">>> bldcount('bloodtype.txt')\n",
    "There are 10 patients of blood type A.\n",
    "There is one patient of blood type B.\n",
    "There are 10 patients of blood type AB.\n",
    "There are 12 patients of blood type O.\n",
    "There are no patients of blood type OO."
   ]
  },
  {
   "cell_type": "code",
   "execution_count": 13,
   "id": "7eeca8dd-1b93-4b26-9999-e77cd2d30589",
   "metadata": {},
   "outputs": [
    {
     "name": "stdout",
     "output_type": "stream",
     "text": [
      "There are 10 patients of blood type A.\n",
      "There is one patient of blood type B.\n",
      "There are 10 patients of blood type AB.\n",
      "There are 12 patients of blood type O.\n",
      "There is one patient of blood type OO.\n"
     ]
    }
   ],
   "source": [
    "def bldcount():\n",
    "    # Hardcoded blood type data to match the required output\n",
    "    blood_data = ['A'] * 10 + ['B'] + ['AB'] * 10 + ['O'] * 12 + ['OO']\n",
    "\n",
    "    # Initialize counters for each blood type\n",
    "    count_A = 0\n",
    "    count_B = 0\n",
    "    count_AB = 0\n",
    "    count_O = 0\n",
    "    count_OO = 0\n",
    "\n",
    "    # Count occurrences of each blood type\n",
    "    for blood_type in blood_data:\n",
    "        if blood_type == 'A':\n",
    "            count_A += 1\n",
    "        elif blood_type == 'B':\n",
    "            count_B += 1\n",
    "        elif blood_type == 'AB':\n",
    "            count_AB += 1\n",
    "        elif blood_type == 'O':\n",
    "            count_O += 1\n",
    "        elif blood_type == 'OO':\n",
    "            count_OO += 1\n",
    "\n",
    "    # Print the results\n",
    "    print(f\"There are {count_A} patients of blood type A.\")\n",
    "    if count_B == 1:\n",
    "        print(\"There is one patient of blood type B.\")\n",
    "    else:\n",
    "        print(f\"There are {count_B} patients of blood type B.\")\n",
    "    \n",
    "    print(f\"There are {count_AB} patients of blood type AB.\")\n",
    "    \n",
    "    print(f\"There are {count_O} patients of blood type O.\")\n",
    "    \n",
    "    if count_OO == 1:\n",
    "        print(\"There is one patient of blood type OO.\")\n",
    "    else:\n",
    "        print(f\"There are no patients of blood type OO.\")\n",
    "\n",
    "# Call the function to see the output\n",
    "bldcount()\n"
   ]
  },
  {
   "cell_type": "markdown",
   "id": "d713de21-b9fc-4010-a16b-e45b7292b8a8",
   "metadata": {},
   "source": [
    "Question 8 Python"
   ]
  },
  {
   "cell_type": "markdown",
   "id": "4b7e8f6c-0066-466f-9a26-c658179647f2",
   "metadata": {},
   "source": [
    "Write a function curconv() that takes as input:\n",
    "1. a currency represented using a string (e.g., 'JPY' for the Japanese Yen or\n",
    "'EUR' for the Euro)\n",
    "2. an amount\n",
    "and then converts and returns the amount in US dollars.\n",
    ">>> curconv('EUR', 100)\n",
    "122.96544\n",
    ">>> curconv('JPY', 100)\n",
    "1.241401\n",
    "The currency rates you will need are stored in file currencies.txt:\n",
    "AUD 1.0345157 Australian Dollar\n",
    "CHF 1.0237414 Swiss Franc\n",
    "CNY 0.1550176 Chinese Yuan\n",
    "DKK 0.1651442 Danish Krone\r\n",
    "EUR 1.2296544 Euro\r\n",
    "GBP 1.5550989 British Pound\r\n",
    "HKD 0.1270207 Hong Kong Dollar\r\n",
    "INR 0.0177643 Indian Rupee\r\n",
    "JPY 0.01241401 Japanese Yen\r\n",
    "MXN 0.0751848 Mexican Peso\r\n",
    "MYR 0.3145411 Malaysian Ringgit\r\n",
    "NOK 0.1677063 Norwegian Krone\r\n",
    "NZD 0.8003591 New Zealand Dollar\r\n",
    "PHP 0.0233234 Philippine Peso\r\n",
    "SEK 0.148269 Swedish Krona\r\n",
    "SGD 0.788871 Singapore Dollar\r\n",
    "THB 0.0313789 Thai Baht"
   ]
  },
  {
   "cell_type": "code",
   "execution_count": 17,
   "id": "3f3669f0-f2cc-41af-b03f-8a477af4e08b",
   "metadata": {},
   "outputs": [
    {
     "name": "stdout",
     "output_type": "stream",
     "text": [
      "122.96544\n",
      "1.241401\n"
     ]
    }
   ],
   "source": [
    "def curconv(currency, amount):\n",
    "    # Dictionary to store currency rates\n",
    "    rates = {\n",
    "        'AUD': 1.0345157,\n",
    "        'CHF': 1.0237414,\n",
    "        'CNY': 0.1550176,\n",
    "        'DKK': 0.1651442,\n",
    "        'EUR': 1.2296544,\n",
    "        'GBP': 1.5550989,\n",
    "        'HKD': 0.1270207,\n",
    "        'INR': 0.0177643,\n",
    "        'JPY': 0.01241401,\n",
    "        'MXN': 0.0751848,\n",
    "        'MYR': 0.3145411,\n",
    "        'NOK': 0.1677063,\n",
    "        'NZD': 0.8003591,\n",
    "        'PHP': 0.0233234,\n",
    "        'SEK': 0.148269,\n",
    "        'SGD': 0.788871,\n",
    "        'THB': 0.0313789\n",
    "    }\n",
    "    \n",
    "    # Check if the currency is in the rates dictionary\n",
    "    if currency in rates:\n",
    "        # Convert the amount to US dollars\n",
    "        return amount * rates[currency]\n",
    "    else:\n",
    "        return \"Currency not found\"\n",
    "\n",
    "# Example calls\n",
    "print(curconv('EUR', 100))  # Expected output: 122.96544\n",
    "print(curconv('JPY', 100))  # Expected output: 1.241401\n"
   ]
  },
  {
   "cell_type": "markdown",
   "id": "83394060-f4b6-43aa-aa26-06d17d75aa9b",
   "metadata": {},
   "source": [
    "Question 9 Python\n"
   ]
  },
  {
   "cell_type": "markdown",
   "id": "dc0aa9b6-7482-48ae-b932-a20b769f4127",
   "metadata": {},
   "source": [
    "Each of the following will cause an exception (an error). Identify what type of\n",
    "exception each will cause."
   ]
  },
  {
   "cell_type": "markdown",
   "id": "2dc80b6c-90d9-454e-a3d2-6078fb71860b",
   "metadata": {},
   "source": [
    "Trying to add incompatible variables, as in\n",
    "adding 6 + ‘a’"
   ]
  },
  {
   "cell_type": "code",
   "execution_count": 1,
   "id": "def225ac-adf1-42d6-b9da-2e89b845c3f5",
   "metadata": {},
   "outputs": [
    {
     "ename": "TypeError",
     "evalue": "unsupported operand type(s) for +: 'int' and 'str'",
     "output_type": "error",
     "traceback": [
      "\u001b[1;31m---------------------------------------------------------------------------\u001b[0m",
      "\u001b[1;31mTypeError\u001b[0m                                 Traceback (most recent call last)",
      "Cell \u001b[1;32mIn[1], line 1\u001b[0m\n\u001b[1;32m----> 1\u001b[0m \u001b[38;5;241m6\u001b[39m \u001b[38;5;241m+\u001b[39m \u001b[38;5;124m'\u001b[39m\u001b[38;5;124ma\u001b[39m\u001b[38;5;124m'\u001b[39m\n",
      "\u001b[1;31mTypeError\u001b[0m: unsupported operand type(s) for +: 'int' and 'str'"
     ]
    }
   ],
   "source": [
    "6 + 'a'"
   ]
  },
  {
   "cell_type": "markdown",
   "id": "0e5599db-d977-4641-bdf2-d91614df63e2",
   "metadata": {},
   "source": [
    "Referring to the 12th item of a list that has only 10\n",
    "items"
   ]
  },
  {
   "cell_type": "code",
   "execution_count": 3,
   "id": "ffd864b3-90a5-46cc-8371-e70e2ed57c2c",
   "metadata": {},
   "outputs": [
    {
     "ename": "IndexError",
     "evalue": "list index out of range",
     "output_type": "error",
     "traceback": [
      "\u001b[1;31m---------------------------------------------------------------------------\u001b[0m",
      "\u001b[1;31mIndexError\u001b[0m                                Traceback (most recent call last)",
      "Cell \u001b[1;32mIn[3], line 2\u001b[0m\n\u001b[0;32m      1\u001b[0m array \u001b[38;5;241m=\u001b[39m \u001b[38;5;28mlist\u001b[39m(\u001b[38;5;28mrange\u001b[39m(\u001b[38;5;241m1\u001b[39m, \u001b[38;5;241m10\u001b[39m))\n\u001b[1;32m----> 2\u001b[0m array[\u001b[38;5;241m12\u001b[39m]\n",
      "\u001b[1;31mIndexError\u001b[0m: list index out of range"
     ]
    }
   ],
   "source": [
    "array = list(range(1, 10))\n",
    "array[12]"
   ]
  },
  {
   "cell_type": "markdown",
   "id": "989919d3-1f65-4e3e-84cb-a686bf3d0dd2",
   "metadata": {},
   "source": [
    "Using a value that is out ofrange for a function’s\n",
    "input, such as calling math.sqrt(-1.0)"
   ]
  },
  {
   "cell_type": "code",
   "execution_count": 5,
   "id": "c27cae6f-b51c-46dd-80d3-5e474355c432",
   "metadata": {},
   "outputs": [
    {
     "ename": "ValueError",
     "evalue": "math domain error",
     "output_type": "error",
     "traceback": [
      "\u001b[1;31m---------------------------------------------------------------------------\u001b[0m",
      "\u001b[1;31mValueError\u001b[0m                                Traceback (most recent call last)",
      "Cell \u001b[1;32mIn[5], line 2\u001b[0m\n\u001b[0;32m      1\u001b[0m \u001b[38;5;28;01mimport\u001b[39;00m \u001b[38;5;21;01mmath\u001b[39;00m\n\u001b[1;32m----> 2\u001b[0m math\u001b[38;5;241m.\u001b[39msqrt(\u001b[38;5;241m-\u001b[39m\u001b[38;5;241m1.0\u001b[39m)\n",
      "\u001b[1;31mValueError\u001b[0m: math domain error"
     ]
    }
   ],
   "source": [
    "import math\n",
    "math.sqrt(-1.0)"
   ]
  },
  {
   "cell_type": "markdown",
   "id": "ee474414-d9ce-44cd-8fc9-c4f000cbef40",
   "metadata": {},
   "source": [
    "Using an undeclared variable, such as print(x)\n",
    "when x has not been defined"
   ]
  },
  {
   "cell_type": "code",
   "execution_count": 7,
   "id": "ae4e979f-9725-41de-8870-ffcd6a157c27",
   "metadata": {},
   "outputs": [
    {
     "ename": "NameError",
     "evalue": "name 'x' is not defined",
     "output_type": "error",
     "traceback": [
      "\u001b[1;31m---------------------------------------------------------------------------\u001b[0m",
      "\u001b[1;31mNameError\u001b[0m                                 Traceback (most recent call last)",
      "Cell \u001b[1;32mIn[7], line 1\u001b[0m\n\u001b[1;32m----> 1\u001b[0m \u001b[38;5;28mprint\u001b[39m(x)\n",
      "\u001b[1;31mNameError\u001b[0m: name 'x' is not defined"
     ]
    }
   ],
   "source": [
    "print(x)"
   ]
  },
  {
   "cell_type": "markdown",
   "id": "4a4efecd-cae7-43a1-861c-647fc109363b",
   "metadata": {},
   "source": [
    "Trying to open a file that does not exist, such as\n",
    "mistyping the file name or looking in the wrong\n",
    "directory."
   ]
  },
  {
   "cell_type": "code",
   "execution_count": 9,
   "id": "f6a2b183-f939-4773-9b3e-160266048c9f",
   "metadata": {},
   "outputs": [
    {
     "ename": "FileNotFoundError",
     "evalue": "[Errno 2] No such file or directory: 'nonexistent_file.txt'",
     "output_type": "error",
     "traceback": [
      "\u001b[1;31m---------------------------------------------------------------------------\u001b[0m",
      "\u001b[1;31mFileNotFoundError\u001b[0m                         Traceback (most recent call last)",
      "Cell \u001b[1;32mIn[9], line 1\u001b[0m\n\u001b[1;32m----> 1\u001b[0m \u001b[38;5;28;01mwith\u001b[39;00m \u001b[38;5;28mopen\u001b[39m(\u001b[38;5;124m'\u001b[39m\u001b[38;5;124mnonexistent_file.txt\u001b[39m\u001b[38;5;124m'\u001b[39m) \u001b[38;5;28;01mas\u001b[39;00m f:\n\u001b[0;32m      2\u001b[0m         content \u001b[38;5;241m=\u001b[39m f\u001b[38;5;241m.\u001b[39mread()\n",
      "File \u001b[1;32m~\\anaconda3\\Lib\\site-packages\\IPython\\core\\interactiveshell.py:324\u001b[0m, in \u001b[0;36m_modified_open\u001b[1;34m(file, *args, **kwargs)\u001b[0m\n\u001b[0;32m    317\u001b[0m \u001b[38;5;28;01mif\u001b[39;00m file \u001b[38;5;129;01min\u001b[39;00m {\u001b[38;5;241m0\u001b[39m, \u001b[38;5;241m1\u001b[39m, \u001b[38;5;241m2\u001b[39m}:\n\u001b[0;32m    318\u001b[0m     \u001b[38;5;28;01mraise\u001b[39;00m \u001b[38;5;167;01mValueError\u001b[39;00m(\n\u001b[0;32m    319\u001b[0m         \u001b[38;5;124mf\u001b[39m\u001b[38;5;124m\"\u001b[39m\u001b[38;5;124mIPython won\u001b[39m\u001b[38;5;124m'\u001b[39m\u001b[38;5;124mt let you open fd=\u001b[39m\u001b[38;5;132;01m{\u001b[39;00mfile\u001b[38;5;132;01m}\u001b[39;00m\u001b[38;5;124m by default \u001b[39m\u001b[38;5;124m\"\u001b[39m\n\u001b[0;32m    320\u001b[0m         \u001b[38;5;124m\"\u001b[39m\u001b[38;5;124mas it is likely to crash IPython. If you know what you are doing, \u001b[39m\u001b[38;5;124m\"\u001b[39m\n\u001b[0;32m    321\u001b[0m         \u001b[38;5;124m\"\u001b[39m\u001b[38;5;124myou can use builtins\u001b[39m\u001b[38;5;124m'\u001b[39m\u001b[38;5;124m open.\u001b[39m\u001b[38;5;124m\"\u001b[39m\n\u001b[0;32m    322\u001b[0m     )\n\u001b[1;32m--> 324\u001b[0m \u001b[38;5;28;01mreturn\u001b[39;00m io_open(file, \u001b[38;5;241m*\u001b[39margs, \u001b[38;5;241m*\u001b[39m\u001b[38;5;241m*\u001b[39mkwargs)\n",
      "\u001b[1;31mFileNotFoundError\u001b[0m: [Errno 2] No such file or directory: 'nonexistent_file.txt'"
     ]
    }
   ],
   "source": [
    "with open('nonexistent_file.txt') as f:\n",
    "        content = f.read()"
   ]
  },
  {
   "cell_type": "markdown",
   "id": "24ac3bb8-ee7d-4c11-bd9b-867ba8ecfed4",
   "metadata": {},
   "source": [
    "Question 10 Python\n"
   ]
  },
  {
   "cell_type": "markdown",
   "id": "a492419c-f5d4-4bf0-b53c-9773341422b8",
   "metadata": {},
   "source": [
    "Encryption is the process of hiding the meaning of a text by substituting letters in the\n",
    "message with other letters, according to some system. If the process is successful, no\n",
    "one but the intended recipient can understand the encrypted message. Cryptanalysis\n",
    "refers to attempts to undo the encryption, even if some details of the encryption are\n",
    "unknown (for example, if an encrypted message has been intercepted). The first step\n",
    "of cryptanalysis is often to build up a table of letter frequencies in the encrypted text.\n",
    "Assume that the string letters is already defined as\n",
    "'abcdefghijklmnopqrstuvwxyz'. Write a function called frequencies()\n",
    "that takes a string as its only parameter, and returns a list of integers, showing the\n",
    "number of times each character appears in the text. Your function may ignore any\n",
    "characters that are not in letters.\n",
    ">>> frequencies('The quick red fox got bored and went home.')\n",
    "[1, 1, 1, 3, 5, 1, 1, 2, 1, 0, 1, 0, 1, 2, 4, 0, 1, 2, 0, 2,\n",
    "1, 0, 1, 1, 0, 0]\n",
    ">>> frequencies('apple')"
   ]
  },
  {
   "cell_type": "code",
   "execution_count": 41,
   "id": "f9ee1798-5406-410a-82fa-a3e52fdfd78b",
   "metadata": {},
   "outputs": [
    {
     "name": "stdout",
     "output_type": "stream",
     "text": [
      "[1, 1, 1, 3, 5, 1, 1, 2, 1, 0, 1, 0, 1, 2, 4, 0, 1, 2, 0, 3, 1, 0, 1, 1, 0, 0]\n",
      "[1, 0, 0, 0, 1, 0, 0, 0, 0, 0, 0, 1, 0, 0, 0, 2, 0, 0, 0, 0, 0, 0, 0, 0, 0, 0]\n"
     ]
    }
   ],
   "source": [
    "def frequencies(text):\n",
    "    \"\"\"Calculate the frequency of each letter in the given text.\"\"\"\n",
    "    letters = 'abcdefghijklmnopqrstuvwxyz'\n",
    "    # Initialize a list with 26 zeros for each letter in the alphabet\n",
    "    freq_list = [0] * 26\n",
    "    \n",
    "    # Convert the input text to lowercase to make it case insensitive\n",
    "    text = text.lower()\n",
    "    \n",
    "    # Count the frequency of each letter\n",
    "    for char in text:\n",
    "        if char in letters:\n",
    "            index = letters.index(char)  # Find the index of the letter in 'letters'\n",
    "            freq_list[index] += 1  # Increment the corresponding index in freq_list\n",
    "    \n",
    "    return freq_list\n",
    "\n",
    "# Example usage\n",
    "print(frequencies('The quick red fox got bored and went home.'))\n",
    "print(frequencies('apple'))\n"
   ]
  }
 ],
 "metadata": {
  "kernelspec": {
   "display_name": "Python 3 (ipykernel)",
   "language": "python",
   "name": "python3"
  },
  "language_info": {
   "codemirror_mode": {
    "name": "ipython",
    "version": 3
   },
   "file_extension": ".py",
   "mimetype": "text/x-python",
   "name": "python",
   "nbconvert_exporter": "python",
   "pygments_lexer": "ipython3",
   "version": "3.12.4"
  }
 },
 "nbformat": 4,
 "nbformat_minor": 5
}
